{
 "cells": [
  {
   "cell_type": "markdown",
   "id": "c66a6942",
   "metadata": {},
   "source": [
    "# Error handling"
   ]
  },
  {
   "cell_type": "markdown",
   "id": "757c894b",
   "metadata": {},
   "source": [
    "## Common errors\n",
    "In Python programming, beginners and experienced coders alike often encounter common errors. Type errors occur when operations are performed on incompatible data types, such as trying to add a string and a number. Syntax errors happen when the code breaks Python’s grammar rules, like missing colons or parentheses. Logic errors, while syntactically correct, lead to incorrect results due to flaws in the program’s logic. Understanding these error types helps in debugging and writing more reliable code."
   ]
  },
  {
   "cell_type": "markdown",
   "id": "8c9e76df",
   "metadata": {},
   "source": [
    "### TypeError\n",
    "Example:"
   ]
  },
  {
   "cell_type": "code",
   "execution_count": null,
   "id": "178369d2",
   "metadata": {},
   "outputs": [
    {
     "ename": "TypeError",
     "evalue": "can only concatenate str (not \"int\") to str",
     "output_type": "error",
     "traceback": [
      "\u001b[31m---------------------------------------------------------------------------\u001b[39m",
      "\u001b[31mTypeError\u001b[39m                                 Traceback (most recent call last)",
      "\u001b[36mCell\u001b[39m\u001b[36m \u001b[39m\u001b[32mIn[1]\u001b[39m\u001b[32m, line 2\u001b[39m\n\u001b[32m      1\u001b[39m age = \u001b[32m25\u001b[39m\n\u001b[32m----> \u001b[39m\u001b[32m2\u001b[39m message = \u001b[33;43m\"\u001b[39;49m\u001b[33;43mYou are \u001b[39;49m\u001b[33;43m\"\u001b[39;49m\u001b[43m \u001b[49m\u001b[43m+\u001b[49m\u001b[43m \u001b[49m\u001b[43mage\u001b[49m\n",
      "\u001b[31mTypeError\u001b[39m: can only concatenate str (not \"int\") to str"
     ]
    }
   ],
   "source": [
    "name = \"Alice\"\n",
    "age = 30\n",
    "print(\"Name: \" + name + \", Age: \" + age)"
   ]
  },
  {
   "cell_type": "markdown",
   "id": "f19458e3",
   "metadata": {},
   "source": [
    "try to fix this error.\n",
    "```{admonition} Active learning\n",
    ":class: tip\n",
    "Hint: look to the variables types!\n",
    "```"
   ]
  },
  {
   "cell_type": "markdown",
   "id": "be177b02",
   "metadata": {},
   "source": [
    "Solution:\n",
    "```{admonition} Solution\n",
    ":class: dropdown\n",
    "```python\n",
    "print(\"Name: \" + name + \", Age: \" + str(age))\n",
    "```\n",
    "```"
   ]
  },
  {
   "cell_type": "markdown",
   "id": "bd99704c",
   "metadata": {},
   "source": []
  }
 ],
 "metadata": {
  "kernelspec": {
   "display_name": "Python 3",
   "language": "python",
   "name": "python3"
  },
  "language_info": {
   "codemirror_mode": {
    "name": "ipython",
    "version": 3
   },
   "file_extension": ".py",
   "mimetype": "text/x-python",
   "name": "python",
   "nbconvert_exporter": "python",
   "pygments_lexer": "ipython3",
   "version": "3.12.1"
  }
 },
 "nbformat": 4,
 "nbformat_minor": 5
}
