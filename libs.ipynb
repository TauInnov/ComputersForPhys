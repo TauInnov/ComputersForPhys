{
 "cells": [
  {
   "cell_type": "markdown",
   "id": "85faf7be",
   "metadata": {},
   "source": [
    "# Libs"
   ]
  },
  {
   "cell_type": "markdown",
   "id": "56a5658e",
   "metadata": {},
   "source": []
  }
 ],
 "metadata": {
  "language_info": {
   "name": "python"
  }
 },
 "nbformat": 4,
 "nbformat_minor": 5
}
