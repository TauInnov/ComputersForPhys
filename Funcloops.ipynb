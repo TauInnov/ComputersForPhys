{
 "cells": [
  {
   "cell_type": "markdown",
   "id": "5c19fed0",
   "metadata": {},
   "source": [
    "# Funcs\n"
   ]
  },
  {
   "cell_type": "markdown",
   "id": "8e40f60d",
   "metadata": {},
   "source": []
  }
 ],
 "metadata": {
  "language_info": {
   "name": "python"
  }
 },
 "nbformat": 4,
 "nbformat_minor": 5
}
