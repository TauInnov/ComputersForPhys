{
 "cells": [
  {
   "cell_type": "markdown",
   "id": "c66a6942",
   "metadata": {},
   "source": [
    "# Error handling"
   ]
  },
  {
   "cell_type": "markdown",
   "id": "757c894b",
   "metadata": {},
   "source": [
    "## Common errors\n",
    "In Python programming, beginners and experienced coders alike often encounter common errors. Type errors occur when operations are performed on incompatible data types, such as trying to add a string and a number. Syntax errors happen when the code breaks Python’s grammar rules, like missing colons or parentheses. Logic errors, while syntactically correct, lead to incorrect results due to flaws in the program’s logic. Understanding these error types helps in debugging and writing more reliable code."
   ]
  },
  {
   "cell_type": "markdown",
   "id": "8c9e76df",
   "metadata": {},
   "source": [
    "### TypeError\n",
    "Example:"
   ]
  },
  {
   "cell_type": "code",
   "execution_count": null,
   "id": "178369d2",
   "metadata": {},
   "outputs": [],
   "source": [
    "name = \"Alice\"\n",
    "age = 30\n",
    "print(\"Name: \" + name + \", Age: \" + age)"
   ]
  },
  {
   "cell_type": "markdown",
   "id": "f19458e3",
   "metadata": {},
   "source": [
    "try to fix this error.\n",
    "```{admonition} Tip!\n",
    ":class: tip\n",
    "Hint: look to the variables types!\n",
    "```"
   ]
  },
  {
   "cell_type": "markdown",
   "id": "be177b02",
   "metadata": {},
   "source": [
    "Solution:\n",
    "```{admonition} Solution\n",
    ":class: dropdown\n",
    "```python\n",
    "print(\"Name: \" + name + \", Age: \" + str(age))"
   ]
  },
  {
   "cell_type": "markdown",
   "id": "bd99704c",
   "metadata": {},
   "source": [
    "Explanation:\n",
    "\n",
    "This is a TypeError. It happens when you try to combine or operate on data types that aren’t compatible. In this case, Python doesn’t allow concatenation (joining) of a string (`name`) with an integer (`age`) using the `+` operator. You need to explicitly convert the number to a string using `str(age)`."
   ]
  },
  {
   "cell_type": "markdown",
   "id": "33d0ad37",
   "metadata": {},
   "source": [
    "### SyntaxError\n",
    "Example:"
   ]
  },
  {
   "cell_type": "code",
   "execution_count": null,
   "id": "2243a389",
   "metadata": {},
   "outputs": [],
   "source": [
    "if temperature > 30\n",
    "    print(\"It's hot outside.\")"
   ]
  },
  {
   "cell_type": "markdown",
   "id": "b0abb106",
   "metadata": {},
   "source": [
    "try to fix this error.\n",
    "```{admonition} Tip!\n",
    ":class: tip\n",
    "Hint: look back at python's condition syntax!\n",
    "```"
   ]
  },
  {
   "cell_type": "markdown",
   "id": "9e83b06c",
   "metadata": {},
   "source": [
    "Solution:\n",
    "```{admonition} Solution\n",
    ":class: dropdown\n",
    "```python\n",
    "if temperature > 30:\n",
    "    print(\"It's hot outside.\")\n",
    "```"
   ]
  },
  {
   "cell_type": "markdown",
   "id": "c0f2d296",
   "metadata": {},
   "source": [
    "Explanation:\n",
    "\n",
    "This is a SyntaxError, which means the structure of the code violates Python’s grammar rules. In this case, the colon `:` is missing at the end of the `if` statement. Python relies on this colon to recognize that a block of code is starting, so leaving it out causes a syntax failure before the code can even run."
   ]
  },
  {
   "cell_type": "markdown",
   "id": "3a5d8b82",
   "metadata": {},
   "source": [
    "### LogicError\n",
    "Example:"
   ]
  },
  {
   "cell_type": "code",
   "execution_count": null,
   "id": "38843f92",
   "metadata": {},
   "outputs": [],
   "source": [
    "def average(numbers):\n",
    "    total = 0\n",
    "    for num in numbers:\n",
    "        total += num\n",
    "    return total  \n",
    "\n",
    "scores = [80, 90, 70]\n",
    "print(average(scores))  # Output: 240"
   ]
  },
  {
   "cell_type": "markdown",
   "id": "48ea5e95",
   "metadata": {},
   "source": [
    "try to fix this error.\n",
    "```{admonition} Tip!\n",
    ":class: tip\n",
    "Hint: what is the expected output?\n",
    "```"
   ]
  },
  {
   "cell_type": "markdown",
   "id": "32a94482",
   "metadata": {},
   "source": [
    "Solution:\n",
    "```{admonition} Solution\n",
    ":class: dropdown\n",
    "```python\n",
    " return total / len(numbers)\n",
    "```"
   ]
  },
  {
   "cell_type": "markdown",
   "id": "8ea3bfb9",
   "metadata": {},
   "source": [
    "Explanation:\n",
    "\n",
    "This is a logic error because the function technically runs without any crash or syntax complaint, but it gives the wrong result. The programmer forgot to divide the total by the number of elements to compute the average. Instead, the function just returns the sum of the numbers. Errors like this are especially tricky because there’s no error message — just incorrect behavior."
   ]
  }
 ],
 "metadata": {
  "kernelspec": {
   "display_name": "Python 3",
   "language": "python",
   "name": "python3"
  },
  "language_info": {
   "codemirror_mode": {
    "name": "ipython",
    "version": 3
   },
   "file_extension": ".py",
   "mimetype": "text/x-python",
   "name": "python",
   "nbconvert_exporter": "python",
   "pygments_lexer": "ipython3",
   "version": "3.12.1"
  }
 },
 "nbformat": 4,
 "nbformat_minor": 5
}
